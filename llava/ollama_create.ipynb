{
 "cells": [
  {
   "cell_type": "code",
   "execution_count": null,
   "id": "347e9c7f-c01f-4a40-9721-49c929d9eb21",
   "metadata": {
    "papermill": {
     "duration": 0.488527,
     "end_time": "2025-01-14T13:55:38.073515",
     "exception": false,
     "start_time": "2025-01-14T13:55:37.584988",
     "status": "completed"
    },
    "tags": []
   },
   "outputs": [],
   "source": [
    "import ollama\n",
    "import pandas as pd\n",
    "from tqdm import tqdm\n",
    "import re\n",
    "import subprocess\n",
    "import time"
   ]
  },
  {
   "cell_type": "code",
   "execution_count": null,
   "id": "bfbec676-bcdf-448e-81d3-45ab8ab2d54c",
   "metadata": {
    "papermill": {
     "duration": 0.01613,
     "end_time": "2025-01-14T13:55:38.137016",
     "exception": false,
     "start_time": "2025-01-14T13:55:38.120886",
     "status": "completed"
    },
    "tags": []
   },
   "outputs": [],
   "source": [
    "def create_ollama_model(model_name, modelfile_path, wait_time=10):\n",
    "    try:\n",
    "        # Start the subprocess\n",
    "        result = subprocess.run(\n",
    "            [\"ollama\", \"create\", model_name, \"-f\", modelfile_path],\n",
    "            stdout=subprocess.PIPE,\n",
    "            stderr=subprocess.PIPE,\n",
    "            text=True,\n",
    "            encoding='utf-8'\n",
    "        )\n",
    "        \n",
    "        if result.returncode == 0:\n",
    "            print(f\"Model '{model_name}' created successfully.\")\n",
    "        else:\n",
    "            print(f\"Error creating model: {result.stderr}\")\n",
    "        \n",
    "        # Wait for a few seconds before checking again\n",
    "        time.sleep(wait_time)\n",
    "    \n",
    "    except FileNotFoundError:\n",
    "        print(\"The 'ollama' CLI is not installed or not in the system PATH.\")\n",
    "    except UnicodeDecodeError as e:\n",
    "        print(f\"UnicodeDecodeError: {e}\")\n",
    "    except Exception as e:\n",
    "        print(f\"An unexpected error occurred: {e}\")\n"
   ]
  },
  {
   "cell_type": "code",
   "execution_count": null,
   "id": "8c57a4f8-1dee-4899-b25e-b31d960237a8",
   "metadata": {},
   "outputs": [],
   "source": [
    "create_ollama_model('llava1_6_7b_Q4_vanilla', 'llava1_6_7b_Q4_vanilla.modelfile')"
   ]
  },
  {
   "cell_type": "code",
   "execution_count": null,
   "id": "5a5a7c62-4f7c-4fba-b38d-384a8e12e8a8",
   "metadata": {},
   "outputs": [],
   "source": []
  }
 ],
 "metadata": {
  "kernelspec": {
   "display_name": "Python 3 (ipykernel)",
   "language": "python",
   "name": "python3"
  },
  "language_info": {
   "codemirror_mode": {
    "name": "ipython",
    "version": 3
   },
   "file_extension": ".py",
   "mimetype": "text/x-python",
   "name": "python",
   "nbconvert_exporter": "python",
   "pygments_lexer": "ipython3",
   "version": "3.8.20"
  },
  "papermill": {
   "default_parameters": {},
   "duration": 19.258389,
   "end_time": "2025-01-14T13:55:55.961599",
   "environment_variables": {},
   "exception": null,
   "input_path": "C:\\Users\\user\\Desktop\\20250115_time_test\\LLM_create_time_test.ipynb",
   "output_path": "C:\\Users\\user\\Desktop\\20250115_time_test\\LLM_create_time_test.ipynb",
   "parameters": {
    "model": "Bz_7B_Base_Q8_0",
    "tem": 0.7
   },
   "start_time": "2025-01-14T13:55:36.703210",
   "version": "2.6.0"
  }
 },
 "nbformat": 4,
 "nbformat_minor": 5
}
