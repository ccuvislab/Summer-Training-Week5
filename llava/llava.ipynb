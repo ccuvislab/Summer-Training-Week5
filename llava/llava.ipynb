{
 "cells": [
  {
   "cell_type": "code",
   "execution_count": null,
   "id": "b5268276-ea4a-4edf-9342-9d49644944c4",
   "metadata": {},
   "outputs": [],
   "source": [
    "import requests\n",
    "import base64#llava格式要求限制\n",
    "\n",
    "\n",
    "def encode_image_to_base64(image_path):\n",
    "    with open(image_path, \"rb\") as image_file:\n",
    "        return base64.b64encode(image_file.read()).decode(\"utf-8\")\n",
    "\n",
    "image_path = \"trump2.jpg\"\n",
    "image_base64 = encode_image_to_base64(image_path)\n",
    "\n",
    "\n",
    "response = requests.post(\n",
    "    \"http://localhost:11434/api/generate\",\n",
    "    json={\n",
    "        \"model\": \"llava1_6_7b_Q4_vanilla\",\n",
    "        \"prompt\": \"please describe this image\",\n",
    "        \"images\": [image_base64],\n",
    "        \"stream\": False\n",
    "    }\n",
    ")\n",
    "\n",
    "\n",
    "result = response.json()\n",
    "print(result[\"response\"])\n"
   ]
  },
  {
   "cell_type": "code",
   "execution_count": null,
   "id": "a58b4ee1-7684-49e3-95a4-2e397a75c5a0",
   "metadata": {},
   "outputs": [],
   "source": []
  }
 ],
 "metadata": {
  "kernelspec": {
   "display_name": "Python 3 (ipykernel)",
   "language": "python",
   "name": "python3"
  },
  "language_info": {
   "codemirror_mode": {
    "name": "ipython",
    "version": 3
   },
   "file_extension": ".py",
   "mimetype": "text/x-python",
   "name": "python",
   "nbconvert_exporter": "python",
   "pygments_lexer": "ipython3",
   "version": "3.8.20"
  }
 },
 "nbformat": 4,
 "nbformat_minor": 5
}
