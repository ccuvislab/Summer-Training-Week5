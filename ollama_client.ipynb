{
 "cells": [
  {
   "cell_type": "code",
   "execution_count": null,
   "id": "4ecbce68-b379-4ce0-8fcb-89e55f414b0b",
   "metadata": {},
   "outputs": [],
   "source": [
    "from ollama import Client\n",
    "def chat_with_ollama(model, message_content):\n",
    "    response=client.chat(model=model, messages=[{'role': 'user', 'content': message_content}])\n",
    "    return response\n",
    "\n",
    "\n",
    "client = Client(\n",
    "  host='http://localhost:8000',\n",
    "  headers={'x-some-header': 'some-value'}\n",
    ")\n",
    "\n",
    "output = chat_with_ollama('DpSeek-R1-8B-Q6k_time_0.7_ver15', 'what is the weather today?')\n",
    "output"
   ]
  },
  {
   "cell_type": "code",
   "execution_count": null,
   "id": "256543aa-b7f1-4dc3-9d9d-d6288745d1bd",
   "metadata": {},
   "outputs": [],
   "source": []
  }
 ],
 "metadata": {
  "kernelspec": {
   "display_name": "Python 3 (ipykernel)",
   "language": "python",
   "name": "python3"
  },
  "language_info": {
   "codemirror_mode": {
    "name": "ipython",
    "version": 3
   },
   "file_extension": ".py",
   "mimetype": "text/x-python",
   "name": "python",
   "nbconvert_exporter": "python",
   "pygments_lexer": "ipython3",
   "version": "3.8.20"
  }
 },
 "nbformat": 4,
 "nbformat_minor": 5
}
