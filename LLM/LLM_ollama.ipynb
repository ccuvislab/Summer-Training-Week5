{
 "cells": [
  {
   "cell_type": "code",
   "execution_count": 1,
   "id": "347e9c7f-c01f-4a40-9721-49c929d9eb21",
   "metadata": {
    "papermill": {
     "duration": null,
     "end_time": null,
     "exception": null,
     "start_time": null,
     "status": "completed"
    },
    "tags": []
   },
   "outputs": [],
   "source": [
    "import ollama\n",
    "import pandas as pd\n",
    "import numpy as np\n",
    "from tqdm.notebook import tqdm\n",
    "import re\n",
    "import time"
   ]
  },
  {
   "cell_type": "code",
   "execution_count": 22,
   "id": "c8338af9-17c9-47b7-9d77-6edfe6ae7d7f",
   "metadata": {},
   "outputs": [],
   "source": [
    "def chat_with_ollama(model, message_content):\n",
    "    return ollama.chat(model=model, messages=[{'role': 'user', 'content': message_content}])"
   ]
  },
  {
   "cell_type": "code",
   "execution_count": null,
   "id": "cad0c2cc-e7b3-45c6-9896-19799909b8a7",
   "metadata": {},
   "outputs": [],
   "source": [
    "output = chat_with_ollama('model_name', txt)\n",
    "result = output['message']['content'].replace('<', '')    "
   ]
  }
 ],
 "metadata": {
  "kernelspec": {
   "display_name": "Python 3 (ipykernel)",
   "language": "python",
   "name": "python3"
  },
  "language_info": {
   "codemirror_mode": {
    "name": "ipython",
    "version": 3
   },
   "file_extension": ".py",
   "mimetype": "text/x-python",
   "name": "python",
   "nbconvert_exporter": "python",
   "pygments_lexer": "ipython3",
   "version": "3.8.20"
  },
  "papermill": {
   "default_parameters": {},
   "duration": 1.059439,
   "end_time": "2024-12-03T03:28:19.839223",
   "environment_variables": {},
   "exception": null,
   "input_path": "C:\\Users\\user\\Desktop\\LLM\\LLM_test\\LLM_test.ipynb",
   "output_path": "C:\\Users\\user\\Desktop\\LLM\\LLM_test\\LLM_test.ipynb",
   "parameters": {
    "model": "Bz_7B_Base_Q4_0",
    "rank": 5,
    "tem": 0.9
   },
   "start_time": "2024-12-03T03:28:18.779784",
   "version": "2.6.0"
  }
 },
 "nbformat": 4,
 "nbformat_minor": 5
}
